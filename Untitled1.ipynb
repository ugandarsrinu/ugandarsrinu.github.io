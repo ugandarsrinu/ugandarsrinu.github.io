{
  "nbformat": 4,
  "nbformat_minor": 0,
  "metadata": {
    "colab": {
      "name": "Untitled1.ipynb",
      "provenance": [],
      "collapsed_sections": [],
      "authorship_tag": "ABX9TyMfqkswllxBvz9S/TBlpv7f",
      "include_colab_link": true
    },
    "kernelspec": {
      "name": "python3",
      "display_name": "Python 3"
    }
  },
  "cells": [
    {
      "cell_type": "markdown",
      "metadata": {
        "id": "view-in-github",
        "colab_type": "text"
      },
      "source": [
        "<a href=\"https://colab.research.google.com/github/ugandarsrinu/ugandarsrinu.github.io/blob/master/Untitled1.ipynb\" target=\"_parent\"><img src=\"https://colab.research.google.com/assets/colab-badge.svg\" alt=\"Open In Colab\"/></a>"
      ]
    },
    {
      "cell_type": "code",
      "metadata": {
        "id": "lttef_EicCP8",
        "colab_type": "code",
        "colab": {}
      },
      "source": [
        "weights=[[0.2,0.8,-0.5,1.0],[0.5,-0.91,0.26,-0.5],[-0.26,-0.27,0.17,0.87]]"
      ],
      "execution_count": 70,
      "outputs": []
    },
    {
      "cell_type": "code",
      "metadata": {
        "colab_type": "code",
        "id": "eCtFUT0BfsaO",
        "colab": {}
      },
      "source": [
        "weights2=[[0.1,-0.14,0.5,],[-0.5,-0.12,0.33],[-0.44,0.73,-0.13]]"
      ],
      "execution_count": 69,
      "outputs": []
    },
    {
      "cell_type": "code",
      "metadata": {
        "colab_type": "code",
        "id": "iA_ffDLRftE4",
        "colab": {}
      },
      "source": [
        "bias2=[-1,2,0.5]"
      ],
      "execution_count": 75,
      "outputs": []
    },
    {
      "cell_type": "code",
      "metadata": {
        "id": "xpwzxXOmwG2K",
        "colab_type": "code",
        "colab": {}
      },
      "source": [
        "inputs = [[1,2,3,2.5],[2.0,5.0,-1.0,2.0],[-1.5,2.7,3.3,-0.8]]\n",
        "       "
      ],
      "execution_count": 82,
      "outputs": []
    },
    {
      "cell_type": "code",
      "metadata": {
        "id": "OBboPiAmcIhm",
        "colab_type": "code",
        "colab": {}
      },
      "source": [
        "biases=[2,3,0.5]\n"
      ],
      "execution_count": 78,
      "outputs": []
    },
    {
      "cell_type": "code",
      "metadata": {
        "id": "UTe8Pkj3cKzB",
        "colab_type": "code",
        "colab": {
          "base_uri": "https://localhost:8080/",
          "height": 34
        },
        "outputId": "a56e0135-2064-4351-a551-459616f8b808"
      },
      "source": [
        "layer_outputs=[]\n",
        "for neuron_weights,neuron_bias in zip(weights,biases):\n",
        "  neuron_output=0\n",
        "  for neuron_input,weight in zip(inputs,neuron_weights):\n",
        "    neuron_output += neuron_input*weight\n",
        "  neuron_output+=neuron_bias\n",
        "  layer_outputs.append(neuron_output)\n",
        "print(layer_outputs)"
      ],
      "execution_count": null,
      "outputs": [
        {
          "output_type": "stream",
          "text": [
            "[4.8, 1.21, 2.385]\n"
          ],
          "name": "stdout"
        }
      ]
    },
    {
      "cell_type": "code",
      "metadata": {
        "id": "lc99wA_pfzBx",
        "colab_type": "code",
        "colab": {}
      },
      "source": [
        "weights=[0.2,0.8,-0.5,1.0]\n"
      ],
      "execution_count": 47,
      "outputs": []
    },
    {
      "cell_type": "code",
      "metadata": {
        "id": "rCcf-dVc6_5X",
        "colab_type": "code",
        "colab": {
          "base_uri": "https://localhost:8080/",
          "height": 68
        },
        "outputId": "2eabeecc-73fc-4198-9619-790da0af5aa0"
      },
      "source": [
        "import numpy as np\n",
        "output1=np.dot(inputs,np.array(weights).T)+biases\n",
        "output2=np.dot(output1,np.array(weights2).T)+bias2\n",
        "print(output2)"
      ],
      "execution_count": 83,
      "outputs": [
        {
          "output_type": "stream",
          "text": [
            "[[ 0.5031   0.24185 -1.03875]\n",
            " [ 0.2434  -2.1668  -4.7633 ]\n",
            " [-0.99314  1.17746  0.64345]]\n"
          ],
          "name": "stdout"
        }
      ]
    }
  ]
}